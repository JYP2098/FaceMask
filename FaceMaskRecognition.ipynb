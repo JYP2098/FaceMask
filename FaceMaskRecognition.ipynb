{
 "cells": [
  {
   "cell_type": "code",
   "execution_count": 9,
   "metadata": {},
   "outputs": [
    {
     "name": "stdout",
     "output_type": "stream",
     "text": [
      "Found 1314 images belonging to 2 classes.\n",
      "Found 194 images belonging to 2 classes.\n",
      "Epoch 1/10\n",
      "132/132 [==============================] - 319s 2s/step - loss: 0.5042 - acc: 0.7823 - val_loss: 0.0102 - val_acc: 0.9330\n",
      "Epoch 2/10\n",
      "132/132 [==============================] - 310s 2s/step - loss: 0.3101 - acc: 0.8950 - val_loss: 0.0844 - val_acc: 0.9536\n",
      "Epoch 3/10\n",
      "132/132 [==============================] - 293s 2s/step - loss: 0.2629 - acc: 0.8935 - val_loss: 0.0609 - val_acc: 0.9691\n",
      "Epoch 4/10\n",
      "132/132 [==============================] - 283s 2s/step - loss: 0.2533 - acc: 0.9064 - val_loss: 0.0131 - val_acc: 0.9742\n",
      "Epoch 5/10\n",
      "132/132 [==============================] - 269s 2s/step - loss: 0.2595 - acc: 0.9072 - val_loss: 0.0020 - val_acc: 0.9691\n",
      "Epoch 6/10\n",
      "132/132 [==============================] - 273s 2s/step - loss: 0.2056 - acc: 0.9231 - val_loss: 6.8430e-05 - val_acc: 0.9691\n",
      "Epoch 7/10\n",
      "132/132 [==============================] - 210s 2s/step - loss: 0.2551 - acc: 0.9125 - val_loss: 0.0082 - val_acc: 0.9742\n",
      "Epoch 8/10\n",
      "132/132 [==============================] - 199s 2s/step - loss: 0.2067 - acc: 0.9231 - val_loss: 0.0235 - val_acc: 0.9794\n",
      "Epoch 9/10\n",
      "132/132 [==============================] - 226s 2s/step - loss: 0.1616 - acc: 0.9414 - val_loss: 0.0033 - val_acc: 0.9794\n",
      "Epoch 10/10\n",
      "132/132 [==============================] - 199s 2s/step - loss: 0.1789 - acc: 0.9368 - val_loss: 0.0058 - val_acc: 0.9897\n"
     ]
    }
   ],
   "source": [
    "from keras.optimizers import RMSprop\n",
    "from keras.preprocessing.image import ImageDataGenerator\n",
    "import cv2\n",
    "from keras.models import Sequential\n",
    "from keras.layers import Conv2D, Input, ZeroPadding2D, BatchNormalization, Activation, MaxPooling2D, Flatten, Dense,Dropout\n",
    "from keras.models import Model, load_model\n",
    "from keras.callbacks import TensorBoard, ModelCheckpoint\n",
    "from sklearn.model_selection import train_test_split\n",
    "from sklearn.metrics import f1_score\n",
    "from sklearn.utils import shuffle\n",
    "import numpy as np\n",
    "\n",
    "model =Sequential([\n",
    "    Conv2D(100, (3,3), activation='relu', input_shape=(150, 150, 3)),\n",
    "    MaxPooling2D(2,2),\n",
    "    \n",
    "    Conv2D(100, (3,3), activation='relu'),\n",
    "    MaxPooling2D(2,2),\n",
    "    \n",
    "    Flatten(),\n",
    "    Dropout(0.5),\n",
    "    Dense(50, activation='relu'),\n",
    "    Dense(2, activation='softmax')\n",
    "])\n",
    "model.compile(optimizer='adam', loss='binary_crossentropy', metrics=['acc'])\n",
    "\n",
    "TRAINING_DIR = \"./train\"\n",
    "train_datagen = ImageDataGenerator(rescale=1.0/255,\n",
    "                                   rotation_range=40,\n",
    "                                   width_shift_range=0.2,\n",
    "                                   height_shift_range=0.2,\n",
    "                                   shear_range=0.2,\n",
    "                                   zoom_range=0.2,\n",
    "                                   horizontal_flip=True,\n",
    "                                   fill_mode='nearest')\n",
    "\n",
    "train_generator = train_datagen.flow_from_directory(TRAINING_DIR, \n",
    "                                                    batch_size=10, \n",
    "                                                    target_size=(150, 150))\n",
    "VALIDATION_DIR = \"./test\"\n",
    "validation_datagen = ImageDataGenerator(rescale=1.0/255)\n",
    "\n",
    "validation_generator = validation_datagen.flow_from_directory(VALIDATION_DIR, \n",
    "                                                         batch_size=10, \n",
    "                                                         target_size=(150, 150))\n",
    "checkpoint = ModelCheckpoint('model2-{epoch:03d}.model',monitor='val_loss',verbose=0,save_best_only=True,mode='auto')\n",
    "\n",
    "\n",
    "history = model.fit_generator(train_generator,\n",
    "                              epochs=10,\n",
    "                              validation_data=validation_generator,\n",
    "                              callbacks=[checkpoint])"
   ]
  }
 ],
 "metadata": {
  "kernelspec": {
   "display_name": "Python 3",
   "language": "python",
   "name": "python3"
  },
  "language_info": {
   "codemirror_mode": {
    "name": "ipython",
    "version": 3
   },
   "file_extension": ".py",
   "mimetype": "text/x-python",
   "name": "python",
   "nbconvert_exporter": "python",
   "pygments_lexer": "ipython3",
   "version": "3.7.4"
  }
 },
 "nbformat": 4,
 "nbformat_minor": 2
}
